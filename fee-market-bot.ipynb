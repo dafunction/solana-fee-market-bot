{
 "cells": [
  {
   "cell_type": "markdown",
   "id": "140cbc43-cc91-455c-9b06-aae8b622a524",
   "metadata": {},
   "source": [
    "# Solana Fee Market Bot\n",
    "\n",
    "Introduction\n",
    "\n",
    "This notebook demonstrates how to create a Discord bot that fetches data from a WebSocket and makes JSON-RPC requests, processing and displaying the data within Discord.  This would be useful for token traders and snipers who need the most up to date tip/fee markets while in active trading sessions.  Here's an step-by-step overview of this notebook:\n",
    "\n",
    "\t1.\tSetup and Imports\n",
    "\t2.\tFetch Data from WebSocket\n",
    "\t3.\tGet Priority Fee Estimate via JSON-RPC\n",
    "\t4.\tHandle Discord Bot Events\n",
    "\t5.\tStart the Bot"
   ]
  },
  {
   "cell_type": "markdown",
   "id": "adeead8f-65c9-4315-bd28-8338ddbb36eb",
   "metadata": {},
   "source": [
    "## 1. Setup and Imports\n",
    "Make sure to replace `YOUR_BOT_TOKEN` and `YOUR_HELIUS_API_KEY` with your actual bot token and Helius API key."
   ]
  },
  {
   "cell_type": "code",
   "execution_count": null,
   "id": "6038fffb-60ab-4877-a83f-3805d8b7eb92",
   "metadata": {},
   "outputs": [],
   "source": [
    "import discord\n",
    "import asyncio\n",
    "import websockets\n",
    "import json\n",
    "import requests\n",
    "from datetime import datetime\n",
    "\n",
    "\n",
    "TOKEN = 'YOUR_BOT_TOKEN'\n",
    "WEBSOCKET_URL = 'ws://bundles-api-rest.jito.wtf/api/v1/bundles/tip_stream'\n",
    "HELIUS_API_URL = 'https://mainnet.helius-rpc.com/?api-key=YOUR_HELIUS_API_KEY'\n",
    "\n",
    "intents = discord.Intents.default()\n",
    "client = discord.Client(intents=intents)\n",
    "\n",
    "# Global list to store data\n",
    "data_cache = []"
   ]
  },
  {
   "cell_type": "markdown",
   "id": "10170e7f-7a6f-4385-a7fc-74822733d59e",
   "metadata": {},
   "source": [
    "## 2. Fetch Data from WebSocket\n",
    "The following function connects to a WebSocket, sends a request, and retrieves the response."
   ]
  },
  {
   "cell_type": "code",
   "execution_count": null,
   "id": "c8bc6199-672c-4c21-8055-f338574905d1",
   "metadata": {},
   "outputs": [],
   "source": [
    "async def fetch_data():\n",
    "    async with websockets.connect(WEBSOCKET_URL) as websocket:\n",
    "        await websocket.send(\"Your request data if needed\")\n",
    "        response = await websocket.recv()\n",
    "        data = json.loads(response)\n",
    "        timestamp = datetime.utcnow()\n",
    "        data_cache.append((timestamp, data))\n",
    "        return data"
   ]
  },
  {
   "cell_type": "markdown",
   "id": "c1ea1bc7-db30-4a9f-bb5e-aee9fccf1010",
   "metadata": {},
   "source": [
    "## 3. Get Priority Fee Estimate via JSON-RPC\n",
    "This function sends a JSON-RPC request to the Helius API and returns the priority fee estimate."
   ]
  },
  {
   "cell_type": "code",
   "execution_count": null,
   "id": "aa395628-7550-4fca-8b0e-63bfa4bf78e9",
   "metadata": {},
   "outputs": [],
   "source": [
    "def get_priority_fee_estimate():\n",
    "    payload = {\n",
    "        \"jsonrpc\": \"2.0\",\n",
    "        \"id\": \"1\",\n",
    "        \"method\": \"getPriorityFeeEstimate\",\n",
    "        \"params\": [{\n",
    "            \"accountKeys\": [\"JUP6LkbZbjS1jKKwapdHNy74zcZ3tLUZoi5QNyVTaV4\"],\n",
    "            \"options\": {\n",
    "                \"includeAllPriorityFeeLevels\": True\n",
    "            }\n",
    "        }]\n",
    "    }\n",
    "    \n",
    "    headers = {\n",
    "        'Content-Type': 'application/json'\n",
    "    }\n",
    "    \n",
    "    response = requests.post(HELIUS_API_URL, headers=headers, json=payload)\n",
    "    if response.status_code == 200:\n",
    "        return response.json()\n",
    "    else:\n",
    "        return {\"error\": \"Failed to fetch priority fee estimate\"}"
   ]
  },
  {
   "cell_type": "markdown",
   "id": "a45eeb4f-504b-469a-ae64-7d44321d3f29",
   "metadata": {},
   "source": [
    "## 4. Handle Discord Bot Events\n",
    "The following event handlers manage messages and commands received by the bot."
   ]
  },
  {
   "cell_type": "code",
   "execution_count": null,
   "id": "46af9083-8d28-40c3-9c41-8d73c6c8a40b",
   "metadata": {},
   "outputs": [],
   "source": [
    "@client.event\n",
    "async def on_ready():\n",
    "    print(f'We have logged in as {client.user}')\n",
    "\n",
    "@client.event\n",
    "async def on_message(message):\n",
    "    if message.author == client.user:\n",
    "        return\n",
    "\n",
    "    if message.content.startswith('!tips'):\n",
    "        print(f\"Received !tips command from {message.author}\")\n",
    "        data = await fetch_data()\n",
    "\n",
    "        # Create an embed\n",
    "        embed = discord.Embed(title=\"Jito Tip Percentiles\", description=\"Here is the data fetched from Jito Labs\", color=0x00ff00)\n",
    "        \n",
    "        for item in data:\n",
    "            # Convert the time to a human-readable format\n",
    "            time_value = item['time']\n",
    "            dt = datetime.strptime(time_value, \"%Y-%m-%dT%H:%M:%SZ\")\n",
    "            gmt_time_str = dt.strftime(\"%Y-%m-%d %H:%M:%S GMT\")\n",
    "            \n",
    "            embed.add_field(name=\"Time\", value=gmt_time_str, inline=False)\n",
    "            embed.add_field(name=\"25th Percentile\", value=f\"{item['landed_tips_25th_percentile']:.6f}\", inline=True)\n",
    "            embed.add_field(name=\"50th Percentile\", value=f\"{item['landed_tips_50th_percentile']:.6f}\", inline=True)\n",
    "            embed.add_field(name=\"75th Percentile\", value=f\"{item['landed_tips_75th_percentile']:.6f}\", inline=True)\n",
    "            embed.add_field(name=\"95th Percentile\", value=f\"{item['landed_tips_95th_percentile']:.6f}\", inline=True)\n",
    "            embed.add_field(name=\"99th Percentile\", value=f\"{item['landed_tips_99th_percentile']:.6f}\", inline=True)\n",
    "            embed.add_field(name=\"EMA 50th Percentile\", value=f\"{item['ema_landed_tips_50th_percentile']:.6f}\", inline=True)\n",
    "        \n",
    "        await message.channel.send(embed=embed)\n",
    "\n",
    "    if message.content.startswith('!priorityfee'):\n",
    "        print(f\"Received !priorityfee command from {message.author}\")\n",
    "        fee_estimate = get_priority_fee_estimate()\n",
    "        \n",
    "        # Create an embed for the priority fee estimate\n",
    "        embed = discord.Embed(title=\"Priority Fee Estimate\", description=\"Here is the priority fee estimate fetched from Helius\", color=0xff0000)\n",
    "        \n",
    "        if \"error\" in fee_estimate:\n",
    "            embed.add_field(name=\"Error\", value=fee_estimate[\"error\"], inline=False)\n",
    "        else:\n",
    "            priority_fee_levels = fee_estimate.get(\"result\", {}).get(\"priorityFeeLevels\", {})\n",
    "            embed.add_field(name=\"Min\", value=f\"{priority_fee_levels.get('min', 0.0) / 1_000_000_000:.9f}\", inline=True)\n",
    "            embed.add_field(name=\"Low\", value=f\"{priority_fee_levels.get('low', 0.0) / 1_000_000_000:.9f}\", inline=True)\n",
    "            embed.add_field(name=\"Medium\", value=f\"{priority_fee_levels.get('medium', 0.0) / 1_000_000_000:.9f}\", inline=True)\n",
    "            embed.add_field(name=\"High\", value=f\"{priority_fee_levels.get('high', 0.0) / 1_000_000_000:.9f}\", inline=True)\n",
    "            embed.add_field(name=\"Very High\", value=f\"{priority_fee_levels.get('veryHigh', 0.0) / 1_000_000_000:.9f}\", inline=True)\n",
    "            embed.add_field(name=\"Unsafe Max\", value=f\"{priority_fee_levels.get('unsafeMax', 0.0) / 1_000_000_000:.9f}\", inline=True)\n",
    "        \n",
    "        await message.channel.send(embed=embed)"
   ]
  },
  {
   "cell_type": "markdown",
   "id": "f24d11bf-0dde-4f26-9539-2dd464f93df6",
   "metadata": {},
   "source": [
    "## 5. Start the Bot\n",
    "Run the bot and handle asynchronous execution in Jupyter Notebook."
   ]
  },
  {
   "cell_type": "code",
   "execution_count": null,
   "id": "b0a1febc-b423-4863-88dc-4491d652c25b",
   "metadata": {},
   "outputs": [],
   "source": [
    "# Start the bot\n",
    "async def main():\n",
    "    await client.start(TOKEN)\n",
    "\n",
    "# Check if the script is running in a Jupyter notebook environment\n",
    "if __name__ == \"__main__\" and \"get_ipython\" not in globals():\n",
    "    # Normal script execution\n",
    "    asyncio.run(main())\n",
    "else:\n",
    "    # Jupyter notebook or interactive environment\n",
    "    loop = asyncio.get_event_loop()\n",
    "    loop.create_task(main())"
   ]
  },
  {
   "cell_type": "code",
   "execution_count": null,
   "id": "05727dd3-7009-449f-8a2b-05c528c58fc8",
   "metadata": {},
   "outputs": [],
   "source": []
  }
 ],
 "metadata": {
  "kernelspec": {
   "display_name": "Python 3 (ipykernel)",
   "language": "python",
   "name": "python3"
  },
  "language_info": {
   "codemirror_mode": {
    "name": "ipython",
    "version": 3
   },
   "file_extension": ".py",
   "mimetype": "text/x-python",
   "name": "python",
   "nbconvert_exporter": "python",
   "pygments_lexer": "ipython3",
   "version": "3.10.9"
  }
 },
 "nbformat": 4,
 "nbformat_minor": 5
}
